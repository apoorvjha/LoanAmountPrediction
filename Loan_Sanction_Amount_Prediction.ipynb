{
 "cells": [
  {
   "cell_type": "markdown",
   "metadata": {},
   "source": [
    "## Cipla DataScientist Hiring Challange\n",
    "In this challange, I am provided with a set of csv files containing data of loan applicants and my job is to come up with suitable <b>predictive model</b> that can predict the <u><i><b>sanctioned amount of loan</b></i></u> that should be granted to applicant.<br><br>\n",
    "By first look of the problem it is clear that we need to be cautious about the <b>false positives</b> as it will be more of a <u>monitary punishment</u> when compared to <b>true negatives</b>. In this sense false positive is the set of applicants who have high chance of cheating or have a prior record of the same while true negative are profit providers as they are commited customers who have high chance of paying out installments or have no cheating history. The problem that I am anticipating at this instance is the proper policy to deal with applicants who have not applied for loans prior to this and thus classifying them to be either cheater or commited customer will be crucial for not just this problem statement but for real time streaming data of same nature.<br><br>Moreover the problem itself belongs in the domain of regression but above domain knowledge can be helpful in working out and hence optimizing the solution. \n",
    "With this I mark end of my <b>initial brainstorming</b>. "
   ]
  },
  {
   "cell_type": "code",
   "execution_count": 1,
   "metadata": {},
   "outputs": [],
   "source": [
    "from pandas import read_csv                          # reading in our dataset. \n",
    "from pandas import DataFrame                         # creating a dataframe from the dictionary object.\n",
    "from numpy import array                              # for converting lists to numpy arrays.\n",
    "from matplotlib import pyplot as plt                 # for visualisation of the dataset.\n",
    "import os                                            # for os name detection\n",
    "from sklearn.metrics import r2_score                 # metric for performance evaluation of the models.\n",
    "from sklearn.model_selection import train_test_split # for splitting the dataset into training and validation sets.\n",
    "from sklearn.preprocessing import StandardScaler, MinMaxScaler   # For Normalization.\n",
    "# -------------- imports for ML algorithms ----------------\n",
    "from sklearn.linear_model import LinearRegression    \n",
    "from sklearn.linear_model import Ridge\n",
    "from sklearn.linear_model import ElasticNet\n",
    "from sklearn.svm import SVR\n",
    "from sklearn.ensemble import GradientBoostingRegressor\n",
    "from sklearn.preprocessing import PolynomialFeatures\n",
    "from sklearn.neural_network import MLPRegressor\n",
    "from tensorflow.keras import Sequential\n",
    "from tensorflow.keras.optimizers import Adam\n",
    "from tensorflow.keras.layers import Dense, Dropout, Conv1D, MaxPool1D, Flatten\n",
    "#-----------------------------------------------------------\n",
    "import Hyperparameter_Tuning                         # Custom python script for hyperparameter tuning.\n",
    "from warnings import filterwarnings                  # removing unwanted clusterring of warnings.\n",
    "filterwarnings(\"ignore\")"
   ]
  },
  {
   "cell_type": "code",
   "execution_count": 2,
   "metadata": {},
   "outputs": [],
   "source": [
    "# initialize the environment\n",
    "if(not os.path.exists('predictions')):\n",
    "    # make predictions directory where all prediction files in csv format will be stored.\n",
    "    !mkdir predictions \n",
    "if(not os.path.exists('plots')):\n",
    "    # makes plots directory which will hold all the visualization files.\n",
    "    !mkdir plots\n",
    "if os.name=='nt':\n",
    "    # for Windows system\n",
    "    # removes all the files in plots and predictions directory recursively.\n",
    "    !rmdir /S /Q plots\n",
    "    !mkdir plots\n",
    "    !rmdir /S /Q predictions\n",
    "    !mkdir predictions\n",
    "else:\n",
    "    # for Linux system\n",
    "    # removes all the files in plots and predictions directory recursively.\n",
    "    !rm -rf plots/*             \n",
    "    !rm -rf predictions/*"
   ]
  },
  {
   "cell_type": "code",
   "execution_count": 3,
   "metadata": {},
   "outputs": [],
   "source": [
    "train_dataset=read_csv('dataset/train.csv')       # Reads the training data file in pandas dataframe format.\n",
    "test_dataset=read_csv('dataset/test.csv')         # Reads the test data file in pandas dataframe format. "
   ]
  },
  {
   "cell_type": "code",
   "execution_count": 4,
   "metadata": {},
   "outputs": [
    {
     "data": {
      "text/html": [
       "<div>\n",
       "<style scoped>\n",
       "    .dataframe tbody tr th:only-of-type {\n",
       "        vertical-align: middle;\n",
       "    }\n",
       "\n",
       "    .dataframe tbody tr th {\n",
       "        vertical-align: top;\n",
       "    }\n",
       "\n",
       "    .dataframe thead th {\n",
       "        text-align: right;\n",
       "    }\n",
       "</style>\n",
       "<table border=\"1\" class=\"dataframe\">\n",
       "  <thead>\n",
       "    <tr style=\"text-align: right;\">\n",
       "      <th></th>\n",
       "      <th>Customer ID</th>\n",
       "      <th>Name</th>\n",
       "      <th>Gender</th>\n",
       "      <th>Age</th>\n",
       "      <th>Income (USD)</th>\n",
       "      <th>Income Stability</th>\n",
       "      <th>Profession</th>\n",
       "      <th>Type of Employment</th>\n",
       "      <th>Location</th>\n",
       "      <th>Loan Amount Request (USD)</th>\n",
       "      <th>...</th>\n",
       "      <th>Credit Score</th>\n",
       "      <th>No. of Defaults</th>\n",
       "      <th>Has Active Credit Card</th>\n",
       "      <th>Property ID</th>\n",
       "      <th>Property Age</th>\n",
       "      <th>Property Type</th>\n",
       "      <th>Property Location</th>\n",
       "      <th>Co-Applicant</th>\n",
       "      <th>Property Price</th>\n",
       "      <th>Loan Sanction Amount (USD)</th>\n",
       "    </tr>\n",
       "  </thead>\n",
       "  <tbody>\n",
       "    <tr>\n",
       "      <th>0</th>\n",
       "      <td>C-36995</td>\n",
       "      <td>Frederica Shealy</td>\n",
       "      <td>F</td>\n",
       "      <td>56</td>\n",
       "      <td>1933.05</td>\n",
       "      <td>Low</td>\n",
       "      <td>Working</td>\n",
       "      <td>Sales staff</td>\n",
       "      <td>Semi-Urban</td>\n",
       "      <td>72809.58</td>\n",
       "      <td>...</td>\n",
       "      <td>809.44</td>\n",
       "      <td>0</td>\n",
       "      <td>NaN</td>\n",
       "      <td>746</td>\n",
       "      <td>1933.05</td>\n",
       "      <td>4</td>\n",
       "      <td>Rural</td>\n",
       "      <td>1</td>\n",
       "      <td>119933.46</td>\n",
       "      <td>54607.18</td>\n",
       "    </tr>\n",
       "    <tr>\n",
       "      <th>1</th>\n",
       "      <td>C-33999</td>\n",
       "      <td>America Calderone</td>\n",
       "      <td>M</td>\n",
       "      <td>32</td>\n",
       "      <td>4952.91</td>\n",
       "      <td>Low</td>\n",
       "      <td>Working</td>\n",
       "      <td>NaN</td>\n",
       "      <td>Semi-Urban</td>\n",
       "      <td>46837.47</td>\n",
       "      <td>...</td>\n",
       "      <td>780.40</td>\n",
       "      <td>0</td>\n",
       "      <td>Unpossessed</td>\n",
       "      <td>608</td>\n",
       "      <td>4952.91</td>\n",
       "      <td>2</td>\n",
       "      <td>Rural</td>\n",
       "      <td>1</td>\n",
       "      <td>54791.00</td>\n",
       "      <td>37469.98</td>\n",
       "    </tr>\n",
       "    <tr>\n",
       "      <th>2</th>\n",
       "      <td>C-3770</td>\n",
       "      <td>Rosetta Verne</td>\n",
       "      <td>F</td>\n",
       "      <td>65</td>\n",
       "      <td>988.19</td>\n",
       "      <td>High</td>\n",
       "      <td>Pensioner</td>\n",
       "      <td>NaN</td>\n",
       "      <td>Semi-Urban</td>\n",
       "      <td>45593.04</td>\n",
       "      <td>...</td>\n",
       "      <td>833.15</td>\n",
       "      <td>0</td>\n",
       "      <td>Unpossessed</td>\n",
       "      <td>546</td>\n",
       "      <td>988.19</td>\n",
       "      <td>2</td>\n",
       "      <td>Urban</td>\n",
       "      <td>0</td>\n",
       "      <td>72440.58</td>\n",
       "      <td>36474.43</td>\n",
       "    </tr>\n",
       "    <tr>\n",
       "      <th>3</th>\n",
       "      <td>C-26480</td>\n",
       "      <td>Zoe Chitty</td>\n",
       "      <td>F</td>\n",
       "      <td>65</td>\n",
       "      <td>NaN</td>\n",
       "      <td>High</td>\n",
       "      <td>Pensioner</td>\n",
       "      <td>NaN</td>\n",
       "      <td>Rural</td>\n",
       "      <td>80057.92</td>\n",
       "      <td>...</td>\n",
       "      <td>832.70</td>\n",
       "      <td>1</td>\n",
       "      <td>Unpossessed</td>\n",
       "      <td>890</td>\n",
       "      <td>NaN</td>\n",
       "      <td>2</td>\n",
       "      <td>Semi-Urban</td>\n",
       "      <td>1</td>\n",
       "      <td>121441.51</td>\n",
       "      <td>56040.54</td>\n",
       "    </tr>\n",
       "    <tr>\n",
       "      <th>4</th>\n",
       "      <td>C-23459</td>\n",
       "      <td>Afton Venema</td>\n",
       "      <td>F</td>\n",
       "      <td>31</td>\n",
       "      <td>2614.77</td>\n",
       "      <td>Low</td>\n",
       "      <td>Working</td>\n",
       "      <td>High skill tech staff</td>\n",
       "      <td>Semi-Urban</td>\n",
       "      <td>113858.89</td>\n",
       "      <td>...</td>\n",
       "      <td>745.55</td>\n",
       "      <td>1</td>\n",
       "      <td>Active</td>\n",
       "      <td>715</td>\n",
       "      <td>2614.77</td>\n",
       "      <td>4</td>\n",
       "      <td>Semi-Urban</td>\n",
       "      <td>1</td>\n",
       "      <td>208567.91</td>\n",
       "      <td>74008.28</td>\n",
       "    </tr>\n",
       "  </tbody>\n",
       "</table>\n",
       "<p>5 rows × 24 columns</p>\n",
       "</div>"
      ],
      "text/plain": [
       "  Customer ID               Name Gender  Age  Income (USD) Income Stability  \\\n",
       "0     C-36995   Frederica Shealy      F   56       1933.05              Low   \n",
       "1     C-33999  America Calderone      M   32       4952.91              Low   \n",
       "2      C-3770      Rosetta Verne      F   65        988.19             High   \n",
       "3     C-26480         Zoe Chitty      F   65           NaN             High   \n",
       "4     C-23459       Afton Venema      F   31       2614.77              Low   \n",
       "\n",
       "  Profession     Type of Employment    Location  Loan Amount Request (USD)  \\\n",
       "0    Working            Sales staff  Semi-Urban                   72809.58   \n",
       "1    Working                    NaN  Semi-Urban                   46837.47   \n",
       "2  Pensioner                    NaN  Semi-Urban                   45593.04   \n",
       "3  Pensioner                    NaN       Rural                   80057.92   \n",
       "4    Working  High skill tech staff  Semi-Urban                  113858.89   \n",
       "\n",
       "   ...  Credit Score No. of Defaults Has Active Credit Card  Property ID  \\\n",
       "0  ...        809.44               0                    NaN          746   \n",
       "1  ...        780.40               0            Unpossessed          608   \n",
       "2  ...        833.15               0            Unpossessed          546   \n",
       "3  ...        832.70               1            Unpossessed          890   \n",
       "4  ...        745.55               1                 Active          715   \n",
       "\n",
       "   Property Age  Property Type Property Location  Co-Applicant  \\\n",
       "0       1933.05              4             Rural             1   \n",
       "1       4952.91              2             Rural             1   \n",
       "2        988.19              2             Urban             0   \n",
       "3           NaN              2        Semi-Urban             1   \n",
       "4       2614.77              4        Semi-Urban             1   \n",
       "\n",
       "   Property Price  Loan Sanction Amount (USD)  \n",
       "0       119933.46                    54607.18  \n",
       "1        54791.00                    37469.98  \n",
       "2        72440.58                    36474.43  \n",
       "3       121441.51                    56040.54  \n",
       "4       208567.91                    74008.28  \n",
       "\n",
       "[5 rows x 24 columns]"
      ]
     },
     "execution_count": 4,
     "metadata": {},
     "output_type": "execute_result"
    }
   ],
   "source": [
    "train_dataset.head()     # prints the top 5 rows of the training data."
   ]
  },
  {
   "cell_type": "code",
   "execution_count": 5,
   "metadata": {},
   "outputs": [
    {
     "data": {
      "text/html": [
       "<div>\n",
       "<style scoped>\n",
       "    .dataframe tbody tr th:only-of-type {\n",
       "        vertical-align: middle;\n",
       "    }\n",
       "\n",
       "    .dataframe tbody tr th {\n",
       "        vertical-align: top;\n",
       "    }\n",
       "\n",
       "    .dataframe thead th {\n",
       "        text-align: right;\n",
       "    }\n",
       "</style>\n",
       "<table border=\"1\" class=\"dataframe\">\n",
       "  <thead>\n",
       "    <tr style=\"text-align: right;\">\n",
       "      <th></th>\n",
       "      <th>Customer ID</th>\n",
       "      <th>Name</th>\n",
       "      <th>Gender</th>\n",
       "      <th>Age</th>\n",
       "      <th>Income (USD)</th>\n",
       "      <th>Income Stability</th>\n",
       "      <th>Profession</th>\n",
       "      <th>Type of Employment</th>\n",
       "      <th>Location</th>\n",
       "      <th>Loan Amount Request (USD)</th>\n",
       "      <th>...</th>\n",
       "      <th>Credit Score</th>\n",
       "      <th>No. of Defaults</th>\n",
       "      <th>Has Active Credit Card</th>\n",
       "      <th>Property ID</th>\n",
       "      <th>Property Age</th>\n",
       "      <th>Property Type</th>\n",
       "      <th>Property Location</th>\n",
       "      <th>Co-Applicant</th>\n",
       "      <th>Property Price</th>\n",
       "      <th>Loan Sanction Amount (USD)</th>\n",
       "    </tr>\n",
       "  </thead>\n",
       "  <tbody>\n",
       "    <tr>\n",
       "      <th>29995</th>\n",
       "      <td>C-43723</td>\n",
       "      <td>Angelyn Clevenger</td>\n",
       "      <td>M</td>\n",
       "      <td>38</td>\n",
       "      <td>4969.41</td>\n",
       "      <td>Low</td>\n",
       "      <td>Commercial associate</td>\n",
       "      <td>Managers</td>\n",
       "      <td>Urban</td>\n",
       "      <td>76657.90</td>\n",
       "      <td>...</td>\n",
       "      <td>869.61</td>\n",
       "      <td>0</td>\n",
       "      <td>Unpossessed</td>\n",
       "      <td>566</td>\n",
       "      <td>4969.41</td>\n",
       "      <td>4</td>\n",
       "      <td>Urban</td>\n",
       "      <td>1</td>\n",
       "      <td>111096.56</td>\n",
       "      <td>68992.11</td>\n",
       "    </tr>\n",
       "    <tr>\n",
       "      <th>29996</th>\n",
       "      <td>C-32511</td>\n",
       "      <td>Silas Slaugh</td>\n",
       "      <td>M</td>\n",
       "      <td>20</td>\n",
       "      <td>1606.88</td>\n",
       "      <td>Low</td>\n",
       "      <td>Working</td>\n",
       "      <td>Laborers</td>\n",
       "      <td>Semi-Urban</td>\n",
       "      <td>66595.14</td>\n",
       "      <td>...</td>\n",
       "      <td>729.41</td>\n",
       "      <td>0</td>\n",
       "      <td>Inactive</td>\n",
       "      <td>175</td>\n",
       "      <td>1606.88</td>\n",
       "      <td>3</td>\n",
       "      <td>Urban</td>\n",
       "      <td>1</td>\n",
       "      <td>73453.94</td>\n",
       "      <td>46616.60</td>\n",
       "    </tr>\n",
       "    <tr>\n",
       "      <th>29997</th>\n",
       "      <td>C-5192</td>\n",
       "      <td>Carmelo Lone</td>\n",
       "      <td>F</td>\n",
       "      <td>49</td>\n",
       "      <td>NaN</td>\n",
       "      <td>Low</td>\n",
       "      <td>Working</td>\n",
       "      <td>Sales staff</td>\n",
       "      <td>Urban</td>\n",
       "      <td>81410.08</td>\n",
       "      <td>...</td>\n",
       "      <td>NaN</td>\n",
       "      <td>0</td>\n",
       "      <td>Active</td>\n",
       "      <td>959</td>\n",
       "      <td>NaN</td>\n",
       "      <td>1</td>\n",
       "      <td>Rural</td>\n",
       "      <td>1</td>\n",
       "      <td>102108.02</td>\n",
       "      <td>61057.56</td>\n",
       "    </tr>\n",
       "    <tr>\n",
       "      <th>29998</th>\n",
       "      <td>C-12172</td>\n",
       "      <td>Carolann Osby</td>\n",
       "      <td>M</td>\n",
       "      <td>38</td>\n",
       "      <td>2417.71</td>\n",
       "      <td>Low</td>\n",
       "      <td>Working</td>\n",
       "      <td>Security staff</td>\n",
       "      <td>Semi-Urban</td>\n",
       "      <td>142524.10</td>\n",
       "      <td>...</td>\n",
       "      <td>677.27</td>\n",
       "      <td>1</td>\n",
       "      <td>Unpossessed</td>\n",
       "      <td>375</td>\n",
       "      <td>2417.71</td>\n",
       "      <td>4</td>\n",
       "      <td>Urban</td>\n",
       "      <td>1</td>\n",
       "      <td>168194.47</td>\n",
       "      <td>99766.87</td>\n",
       "    </tr>\n",
       "    <tr>\n",
       "      <th>29999</th>\n",
       "      <td>C-33003</td>\n",
       "      <td>Bridget Garibaldi</td>\n",
       "      <td>F</td>\n",
       "      <td>63</td>\n",
       "      <td>3068.24</td>\n",
       "      <td>High</td>\n",
       "      <td>Pensioner</td>\n",
       "      <td>NaN</td>\n",
       "      <td>Rural</td>\n",
       "      <td>156290.54</td>\n",
       "      <td>...</td>\n",
       "      <td>815.44</td>\n",
       "      <td>0</td>\n",
       "      <td>Active</td>\n",
       "      <td>344</td>\n",
       "      <td>3068.24</td>\n",
       "      <td>3</td>\n",
       "      <td>Rural</td>\n",
       "      <td>1</td>\n",
       "      <td>194512.60</td>\n",
       "      <td>117217.90</td>\n",
       "    </tr>\n",
       "  </tbody>\n",
       "</table>\n",
       "<p>5 rows × 24 columns</p>\n",
       "</div>"
      ],
      "text/plain": [
       "      Customer ID               Name Gender  Age  Income (USD)  \\\n",
       "29995     C-43723  Angelyn Clevenger      M   38       4969.41   \n",
       "29996     C-32511       Silas Slaugh      M   20       1606.88   \n",
       "29997      C-5192       Carmelo Lone      F   49           NaN   \n",
       "29998     C-12172      Carolann Osby      M   38       2417.71   \n",
       "29999     C-33003  Bridget Garibaldi      F   63       3068.24   \n",
       "\n",
       "      Income Stability            Profession Type of Employment    Location  \\\n",
       "29995              Low  Commercial associate           Managers       Urban   \n",
       "29996              Low               Working           Laborers  Semi-Urban   \n",
       "29997              Low               Working        Sales staff       Urban   \n",
       "29998              Low               Working     Security staff  Semi-Urban   \n",
       "29999             High             Pensioner                NaN       Rural   \n",
       "\n",
       "       Loan Amount Request (USD)  ...  Credit Score No. of Defaults  \\\n",
       "29995                   76657.90  ...        869.61               0   \n",
       "29996                   66595.14  ...        729.41               0   \n",
       "29997                   81410.08  ...           NaN               0   \n",
       "29998                  142524.10  ...        677.27               1   \n",
       "29999                  156290.54  ...        815.44               0   \n",
       "\n",
       "      Has Active Credit Card  Property ID  Property Age  Property Type  \\\n",
       "29995            Unpossessed          566       4969.41              4   \n",
       "29996               Inactive          175       1606.88              3   \n",
       "29997                 Active          959           NaN              1   \n",
       "29998            Unpossessed          375       2417.71              4   \n",
       "29999                 Active          344       3068.24              3   \n",
       "\n",
       "      Property Location  Co-Applicant  Property Price  \\\n",
       "29995             Urban             1       111096.56   \n",
       "29996             Urban             1        73453.94   \n",
       "29997             Rural             1       102108.02   \n",
       "29998             Urban             1       168194.47   \n",
       "29999             Rural             1       194512.60   \n",
       "\n",
       "       Loan Sanction Amount (USD)  \n",
       "29995                    68992.11  \n",
       "29996                    46616.60  \n",
       "29997                    61057.56  \n",
       "29998                    99766.87  \n",
       "29999                   117217.90  \n",
       "\n",
       "[5 rows x 24 columns]"
      ]
     },
     "execution_count": 5,
     "metadata": {},
     "output_type": "execute_result"
    }
   ],
   "source": [
    "train_dataset.tail()          # prints the last 5 rows of training data."
   ]
  },
  {
   "cell_type": "markdown",
   "metadata": {},
   "source": [
    "By looking at the head (top 5 rows) and tail (bottom 5 rows) of the dataset it is clear that we have alot of features some of which might not be much of relevance but we need to follow paradigm of feature engineering to deduce which set of features best suits the predictive modelling. Apart from that we have to address some categorical type features to be mapped to numerical form and check for count of NANs and then decide over NAN elimination strategy. This extent of noise reduction and hence preprocessing will be sufficient as far as I can contemplate at this point of time. "
   ]
  },
  {
   "cell_type": "code",
   "execution_count": 6,
   "metadata": {},
   "outputs": [],
   "source": [
    "def metadata(dataset,mode):\n",
    "    # Helper to fetch the metadata of the dataframe which is provided as argument.\n",
    "    # mode is argument for getting specific metadata printed about the supplied dataframe.\n",
    "    # 'dataset' : pandas dataframe with column headers set.\n",
    "    # 'mode' : Integer belonging to the discrete set of [0,1].\n",
    "    # if mode=0, fetch the columnwise datatype of the datapoints.\n",
    "    # if mode=1, fetch the columnwise NAN count.\n",
    "    assert mode==1 or mode==0 , \"Mode Should be in the interval [0,1]\"\n",
    "    if mode==0:\n",
    "        # mode to check the datatypes of each individual columns.\n",
    "        print(\"Column Name\",end=\"\")\n",
    "        for i in range(35-len(\"Column Name\")):\n",
    "            print(end=\" \")\n",
    "        print(\" Data Type\")\n",
    "        print(\"-------------------------------------------------------------\")\n",
    "        for col in dataset.columns:\n",
    "            print(col,end=\"\")\n",
    "            for i in range(30-len(col)):\n",
    "                print(end=\" \")\n",
    "            print(\"|   \",dataset[str(col)].dtype)\n",
    "    else:\n",
    "        # mode to check the NAN count of each columns. \n",
    "        max_NAN=0        # stores the count of Maximum number of NAN that is present in the dataset.\n",
    "        colname=\"\"       # stores the columns which is our culprit that contains maximum NAN count\n",
    "        print(\"Column Name\",end=\"\")\n",
    "        for i in range(35-len(\"Column Name\")):\n",
    "            print(end=\" \")\n",
    "        print(\" NAN Count\")\n",
    "        print(\"-------------------------------------------------------------\")\n",
    "        for col in dataset.columns:\n",
    "            cnt=dataset[str(col)].isnull().sum()\n",
    "            print(col,end=\"\")\n",
    "            for i in range(30-len(col)):\n",
    "                print(end=\" \")\n",
    "            print(\"|   \",cnt)\n",
    "            if cnt>max_NAN:\n",
    "                max_NAN=cnt\n",
    "                colname=col\n",
    "        if max_NAN!=0:\n",
    "            print()\n",
    "            print(f\"Maximum NAN count found is {max_NAN} in column \\\"{colname}\\\"! Which is {round(max_NAN/len(dataset),4)*100}% of the total dataset.\")"
   ]
  },
  {
   "cell_type": "code",
   "execution_count": 7,
   "metadata": {},
   "outputs": [
    {
     "name": "stdout",
     "output_type": "stream",
     "text": [
      "Column Name                         Data Type\n",
      "-------------------------------------------------------------\n",
      "Customer ID                   |    object\n",
      "Name                          |    object\n",
      "Gender                        |    object\n",
      "Age                           |    int64\n",
      "Income (USD)                  |    float64\n",
      "Income Stability              |    object\n",
      "Profession                    |    object\n",
      "Type of Employment            |    object\n",
      "Location                      |    object\n",
      "Loan Amount Request (USD)     |    float64\n",
      "Current Loan Expenses (USD)   |    float64\n",
      "Expense Type 1                |    object\n",
      "Expense Type 2                |    object\n",
      "Dependents                    |    float64\n",
      "Credit Score                  |    float64\n",
      "No. of Defaults               |    int64\n",
      "Has Active Credit Card        |    object\n",
      "Property ID                   |    int64\n",
      "Property Age                  |    float64\n",
      "Property Type                 |    int64\n",
      "Property Location             |    object\n",
      "Co-Applicant                  |    int64\n",
      "Property Price                |    float64\n",
      "Loan Sanction Amount (USD)    |    float64\n"
     ]
    }
   ],
   "source": [
    "# Let's check the datatype of data of each columns first.\n",
    "metadata(train_dataset,0)"
   ]
  },
  {
   "cell_type": "code",
   "execution_count": 8,
   "metadata": {},
   "outputs": [
    {
     "name": "stdout",
     "output_type": "stream",
     "text": [
      "Column Name                         NAN Count\n",
      "-------------------------------------------------------------\n",
      "Customer ID                   |    0\n",
      "Name                          |    0\n",
      "Gender                        |    53\n",
      "Age                           |    0\n",
      "Income (USD)                  |    4576\n",
      "Income Stability              |    1683\n",
      "Profession                    |    0\n",
      "Type of Employment            |    7270\n",
      "Location                      |    0\n",
      "Loan Amount Request (USD)     |    0\n",
      "Current Loan Expenses (USD)   |    172\n",
      "Expense Type 1                |    0\n",
      "Expense Type 2                |    0\n",
      "Dependents                    |    2493\n",
      "Credit Score                  |    1703\n",
      "No. of Defaults               |    0\n",
      "Has Active Credit Card        |    1566\n",
      "Property ID                   |    0\n",
      "Property Age                  |    4850\n",
      "Property Type                 |    0\n",
      "Property Location             |    356\n",
      "Co-Applicant                  |    0\n",
      "Property Price                |    0\n",
      "Loan Sanction Amount (USD)    |    340\n",
      "\n",
      "Maximum NAN count found is 7270 in column \"Type of Employment\"! Which is 24.23% of the total dataset.\n"
     ]
    }
   ],
   "source": [
    "# Now lets check the NAN counts of each columns.\n",
    "metadata(train_dataset,1)"
   ]
  },
  {
   "cell_type": "code",
   "execution_count": 9,
   "metadata": {},
   "outputs": [
    {
     "name": "stdout",
     "output_type": "stream",
     "text": [
      "Column Name                         Data Type\n",
      "-------------------------------------------------------------\n",
      "Customer ID                   |    object\n",
      "Name                          |    object\n",
      "Gender                        |    object\n",
      "Age                           |    int64\n",
      "Income (USD)                  |    float64\n",
      "Income Stability              |    object\n",
      "Profession                    |    object\n",
      "Type of Employment            |    object\n",
      "Location                      |    object\n",
      "Loan Amount Request (USD)     |    float64\n",
      "Current Loan Expenses (USD)   |    float64\n",
      "Expense Type 1                |    object\n",
      "Expense Type 2                |    object\n",
      "Dependents                    |    float64\n",
      "Credit Score                  |    float64\n",
      "No. of Defaults               |    int64\n",
      "Has Active Credit Card        |    object\n",
      "Property ID                   |    int64\n",
      "Property Age                  |    float64\n",
      "Property Type                 |    int64\n",
      "Property Location             |    object\n",
      "Co-Applicant                  |    object\n",
      "Property Price                |    object\n",
      "\n",
      "Column Name                         NAN Count\n",
      "-------------------------------------------------------------\n",
      "Customer ID                   |    0\n",
      "Name                          |    0\n",
      "Gender                        |    31\n",
      "Age                           |    0\n",
      "Income (USD)                  |    750\n",
      "Income Stability              |    813\n",
      "Profession                    |    0\n",
      "Type of Employment            |    4689\n",
      "Location                      |    0\n",
      "Loan Amount Request (USD)     |    0\n",
      "Current Loan Expenses (USD)   |    83\n",
      "Expense Type 1                |    0\n",
      "Expense Type 2                |    0\n",
      "Dependents                    |    1142\n",
      "Credit Score                  |    743\n",
      "No. of Defaults               |    0\n",
      "Has Active Credit Card        |    1076\n",
      "Property ID                   |    0\n",
      "Property Age                  |    892\n",
      "Property Type                 |    0\n",
      "Property Location             |    160\n",
      "Co-Applicant                  |    0\n",
      "Property Price                |    0\n",
      "\n",
      "Maximum NAN count found is 4689 in column \"Type of Employment\"! Which is 23.44% of the total dataset.\n"
     ]
    }
   ],
   "source": [
    "# Let's chek same metadata information about test dataset\n",
    "metadata(test_dataset,0)\n",
    "print()\n",
    "metadata(test_dataset,1)"
   ]
  },
  {
   "cell_type": "markdown",
   "metadata": {},
   "source": [
    "By this metadata it is conclusive that I cannot simply drop the NAN rows as it forms one healthy quarter of the dataset in both training and testing sets. Apart from this the NANs are present in columns whose type is object and by loical deduction it is clear that many of them are categorical in nature so I will first transform those columns into numerical counterpart and then proceed with further analysis.    "
   ]
  },
  {
   "cell_type": "code",
   "execution_count": 10,
   "metadata": {},
   "outputs": [],
   "source": [
    "def voteCount(x):\n",
    "    # helper fumction to get the key which have maximum value.\n",
    "    # 'x' is a dictionary with key as string and have a integral value.\n",
    "    max=0\n",
    "    val=''\n",
    "    for i in x.keys():\n",
    "        if x[i]>=max:\n",
    "            max=x[i]\n",
    "            val=i\n",
    "    return val"
   ]
  },
  {
   "cell_type": "code",
   "execution_count": 11,
   "metadata": {},
   "outputs": [],
   "source": [
    "def removeNoise(dataset):\n",
    "    # helper function to denoise the dataframe and preprocess the columns so that it will be sufficient for \n",
    "    # furthur model building.\n",
    "    for col in dataset.columns:\n",
    "        if dataset[str(col)].dtype=='object':\n",
    "            # this case essentially takes care of string type columns.\n",
    "            if str(col)!='Customer ID' and str(col)!='Name': \n",
    "                # this condition allows for preprocessing of only those columns which have significance in the predictive \n",
    "                # modelling. As ID and Name are not valuable features in any kind of statistical model and thus will not form\n",
    "                # part of our predictor set. I am saving CPU cycles by eliminating preprocessing these columns.\n",
    "                distinct={}         # dictionary to hold distinct row values as key and it's count as value.  \n",
    "                replacement={}      # dictionary to hold mapping of string categorial to numerical categorical representation\n",
    "                cnt=1             \n",
    "                data=dataset[str(col)].values\n",
    "                for i in data:\n",
    "                    if(i not in distinct.keys()):                    \n",
    "                        if type(i)==type(''):\n",
    "                            distinct[i]=1       # sets the iniial count of the row value as 1 when it is not NAN.\n",
    "                    else:\n",
    "                        distinct[i]+=1          # increments the already present ount entry of the row value \n",
    "                #nan_replacement=voteCount(distinct)   # collects the mode value of column's row values to replace NAN.\n",
    "                for i in distinct.keys():\n",
    "                    replacement[i]=int(cnt)\n",
    "                    cnt+=1\n",
    "                dataset[str(col)].replace(replacement,inplace=True)\n",
    "                nan_replacement=dataset[str(col)].mode()[0]\n",
    "                dataset[str(col)].fillna(nan_replacement,inplace=True)\n",
    "        elif dataset[str(col)].dtype=='int64':\n",
    "            nan_replacement=dataset[str(col)].mode()[0]\n",
    "            dataset[str(col)].fillna(nan_replacement,inplace=True)\n",
    "        else:\n",
    "            nan_replacement=dataset[str(col)].mean()\n",
    "            dataset[str(col)].fillna(nan_replacement,inplace=True)\n",
    "    return dataset\n",
    "        "
   ]
  },
  {
   "cell_type": "code",
   "execution_count": 12,
   "metadata": {},
   "outputs": [],
   "source": [
    "# Denoised dataframes are created.\n",
    "train_dataset_denoised=removeNoise(train_dataset)\n",
    "test_dataset_denoised=removeNoise(test_dataset)"
   ]
  },
  {
   "cell_type": "code",
   "execution_count": 13,
   "metadata": {},
   "outputs": [
    {
     "name": "stdout",
     "output_type": "stream",
     "text": [
      "Column Name                         Data Type\n",
      "-------------------------------------------------------------\n",
      "Customer ID                   |    object\n",
      "Name                          |    object\n",
      "Gender                        |    float64\n",
      "Age                           |    int64\n",
      "Income (USD)                  |    float64\n",
      "Income Stability              |    float64\n",
      "Profession                    |    int64\n",
      "Type of Employment            |    float64\n",
      "Location                      |    int64\n",
      "Loan Amount Request (USD)     |    float64\n",
      "Current Loan Expenses (USD)   |    float64\n",
      "Expense Type 1                |    int64\n",
      "Expense Type 2                |    int64\n",
      "Dependents                    |    float64\n",
      "Credit Score                  |    float64\n",
      "No. of Defaults               |    int64\n",
      "Has Active Credit Card        |    float64\n",
      "Property ID                   |    int64\n",
      "Property Age                  |    float64\n",
      "Property Type                 |    int64\n",
      "Property Location             |    float64\n",
      "Co-Applicant                  |    int64\n",
      "Property Price                |    float64\n",
      "Loan Sanction Amount (USD)    |    float64\n",
      "\n",
      "Column Name                         NAN Count\n",
      "-------------------------------------------------------------\n",
      "Customer ID                   |    0\n",
      "Name                          |    0\n",
      "Gender                        |    0\n",
      "Age                           |    0\n",
      "Income (USD)                  |    0\n",
      "Income Stability              |    0\n",
      "Profession                    |    0\n",
      "Type of Employment            |    0\n",
      "Location                      |    0\n",
      "Loan Amount Request (USD)     |    0\n",
      "Current Loan Expenses (USD)   |    0\n",
      "Expense Type 1                |    0\n",
      "Expense Type 2                |    0\n",
      "Dependents                    |    0\n",
      "Credit Score                  |    0\n",
      "No. of Defaults               |    0\n",
      "Has Active Credit Card        |    0\n",
      "Property ID                   |    0\n",
      "Property Age                  |    0\n",
      "Property Type                 |    0\n",
      "Property Location             |    0\n",
      "Co-Applicant                  |    0\n",
      "Property Price                |    0\n",
      "Loan Sanction Amount (USD)    |    0\n",
      "\n",
      "Column Name                         Data Type\n",
      "-------------------------------------------------------------\n",
      "Customer ID                   |    object\n",
      "Name                          |    object\n",
      "Gender                        |    float64\n",
      "Age                           |    int64\n",
      "Income (USD)                  |    float64\n",
      "Income Stability              |    float64\n",
      "Profession                    |    int64\n",
      "Type of Employment            |    float64\n",
      "Location                      |    int64\n",
      "Loan Amount Request (USD)     |    float64\n",
      "Current Loan Expenses (USD)   |    float64\n",
      "Expense Type 1                |    int64\n",
      "Expense Type 2                |    int64\n",
      "Dependents                    |    float64\n",
      "Credit Score                  |    float64\n",
      "No. of Defaults               |    int64\n",
      "Has Active Credit Card        |    float64\n",
      "Property ID                   |    int64\n",
      "Property Age                  |    float64\n",
      "Property Type                 |    int64\n",
      "Property Location             |    float64\n",
      "Co-Applicant                  |    int64\n",
      "Property Price                |    int64\n",
      "\n",
      "Column Name                         NAN Count\n",
      "-------------------------------------------------------------\n",
      "Customer ID                   |    0\n",
      "Name                          |    0\n",
      "Gender                        |    0\n",
      "Age                           |    0\n",
      "Income (USD)                  |    0\n",
      "Income Stability              |    0\n",
      "Profession                    |    0\n",
      "Type of Employment            |    0\n",
      "Location                      |    0\n",
      "Loan Amount Request (USD)     |    0\n",
      "Current Loan Expenses (USD)   |    0\n",
      "Expense Type 1                |    0\n",
      "Expense Type 2                |    0\n",
      "Dependents                    |    0\n",
      "Credit Score                  |    0\n",
      "No. of Defaults               |    0\n",
      "Has Active Credit Card        |    0\n",
      "Property ID                   |    0\n",
      "Property Age                  |    0\n",
      "Property Type                 |    0\n",
      "Property Location             |    0\n",
      "Co-Applicant                  |    0\n",
      "Property Price                |    0\n"
     ]
    }
   ],
   "source": [
    "# Let's chek same metadata information about dataset after the denoising operation.\n",
    "metadata(train_dataset_denoised,0)\n",
    "print()\n",
    "metadata(train_dataset_denoised,1)\n",
    "print()\n",
    "metadata(test_dataset_denoised,0)\n",
    "print()\n",
    "metadata(test_dataset_denoised,1)"
   ]
  },
  {
   "cell_type": "markdown",
   "metadata": {},
   "source": [
    "After passing our dataset through denoising operation we have all NANs removed from the dataset without affecting size of our dataset and also have retrieved numerical counterpart of columns which seems important for our predictive model. "
   ]
  },
  {
   "cell_type": "code",
   "execution_count": 14,
   "metadata": {},
   "outputs": [],
   "source": [
    "# Lets look at the statistical distribution of each column.\n",
    "def statistical_information(dataset):\n",
    "    # Helper function to calculate total row count, Mean , Minimum and Maximum values of each columns data.\n",
    "    print(\"Column Name\",end=\"\")\n",
    "    for i in range(35-len(\"Column Name\")):\n",
    "        print(end=\" \")\n",
    "    print(\" Count\",end=\"\")\n",
    "    for i in range(15-len(\"Count\")):\n",
    "        print(end=\" \")\n",
    "    print(\" Mean\",end=\"\")\n",
    "    for i in range(15-len(\"Mean\")):\n",
    "        print(end=\" \")\n",
    "    print(\" Minimum\",end=\"\")\n",
    "    for i in range(15-len(\"Minumum\")):\n",
    "        print(end=\" \")\n",
    "    print(\" Maximum\")\n",
    "    print(\"-----------------------------------------------------------------------------------------------\")\n",
    "    for col in dataset.columns:\n",
    "        if str(col)!='Customer ID' and str(col)!='Name':\n",
    "            print(col,end=\"\")\n",
    "            for i in range(30-len(col)):\n",
    "                print(end=\" \")\n",
    "            print(\"|   \",dataset[str(col)].count(),end=\"\")\n",
    "            for i in range(10-len(str(dataset[str(col)].count()))):\n",
    "                print(end=\" \")\n",
    "            print(\"|   \",round(dataset[str(col)].mean(),3),end=\"\")\n",
    "            for i in range(10-len(str(round(dataset[str(col)].mean(),3)))):\n",
    "                print(end=\" \")\n",
    "            print(\"|   \",dataset[str(col)].min(),end=\"\")\n",
    "            for i in range(10-len(str(dataset[str(col)].min()))):\n",
    "                print(end=\" \")\n",
    "            print(\"|   \",dataset[str(col)].max())\n"
   ]
  },
  {
   "cell_type": "code",
   "execution_count": 15,
   "metadata": {},
   "outputs": [
    {
     "name": "stdout",
     "output_type": "stream",
     "text": [
      "Column Name                         Count           Mean            Minimum         Maximum\n",
      "-----------------------------------------------------------------------------------------------\n",
      "Gender                        |    30000     |    1.504     |    1.0       |    2.0\n",
      "Age                           |    30000     |    40.092    |    18        |    65\n",
      "Income (USD)                  |    30000     |    2630.574  |    377.7     |    1777460.21\n",
      "Income Stability              |    30000     |    1.086     |    1.0       |    2.0\n",
      "Profession                    |    30000     |    2.046     |    1         |    8\n",
      "Type of Employment            |    30000     |    5.325     |    1.0       |    18.0\n",
      "Location                      |    30000     |    1.385     |    1         |    3\n",
      "Loan Amount Request (USD)     |    30000     |    88826.334 |    6048.24   |    621497.82\n",
      "Current Loan Expenses (USD)   |    30000     |    400.937   |    -999.0    |    3840.88\n",
      "Expense Type 1                |    30000     |    1.36      |    1         |    2\n",
      "Expense Type 2                |    30000     |    1.673     |    1         |    2\n",
      "Dependents                    |    30000     |    2.253     |    1.0       |    14.0\n",
      "Credit Score                  |    30000     |    739.885   |    580.0     |    896.26\n",
      "No. of Defaults               |    30000     |    0.194     |    0         |    1\n",
      "Has Active Credit Card        |    30000     |    2.009     |    1.0       |    3.0\n",
      "Property ID                   |    30000     |    501.935   |    1         |    999\n",
      "Property Age                  |    30000     |    2631.119  |    377.7     |    1777460.21\n",
      "Property Type                 |    30000     |    2.46      |    1         |    4\n",
      "Property Location             |    30000     |    2.023     |    1.0       |    3.0\n",
      "Co-Applicant                  |    30000     |    -4.744    |    -999      |    1\n",
      "Property Price                |    30000     |    131759.68 |    -999.0    |    1077966.73\n",
      "Loan Sanction Amount (USD)    |    30000     |    47649.342 |    -999.0    |    481907.32\n",
      "\n",
      "Column Name                         Count           Mean            Minimum         Maximum\n",
      "-----------------------------------------------------------------------------------------------\n",
      "Gender                        |    20000     |    1.491     |    1.0       |    2.0\n",
      "Age                           |    20000     |    39.941    |    18        |    65\n",
      "Income (USD)                  |    20000     |    2536.995  |    368.59    |    30427.68\n",
      "Income Stability              |    20000     |    1.084     |    1.0       |    2.0\n",
      "Profession                    |    20000     |    1.985     |    1         |    7\n",
      "Type of Employment            |    20000     |    4.313     |    1.0       |    18.0\n",
      "Location                      |    20000     |    1.382     |    1         |    3\n",
      "Loan Amount Request (USD)     |    20000     |    88859.077 |    6185.48   |    576335.68\n",
      "Current Loan Expenses (USD)   |    20000     |    408.462   |    41.37     |    3305.97\n",
      "Expense Type 1                |    20000     |    1.359     |    1         |    2\n",
      "Expense Type 2                |    20000     |    1.669     |    1         |    2\n",
      "Dependents                    |    20000     |    2.251     |    1.0       |    13.0\n",
      "Credit Score                  |    20000     |    738.822   |    580.04    |    893.83\n",
      "No. of Defaults               |    20000     |    0.19      |    0         |    1\n",
      "Has Active Credit Card        |    20000     |    2.068     |    1.0       |    3.0\n",
      "Property ID                   |    20000     |    501.024   |    1         |    999\n",
      "Property Age                  |    20000     |    2534.102  |    368.59    |    30427.68\n",
      "Property Type                 |    20000     |    2.472     |    1         |    4\n",
      "Property Location             |    20000     |    2.038     |    1.0       |    3.0\n",
      "Co-Applicant                  |    20000     |    1.154     |    1         |    3\n",
      "Property Price                |    20000     |    9829.116  |    1         |    19824\n"
     ]
    }
   ],
   "source": [
    "statistical_information(train_dataset_denoised) \n",
    "print()\n",
    "statistical_information(test_dataset_denoised) "
   ]
  },
  {
   "cell_type": "markdown",
   "metadata": {},
   "source": [
    "After going through above statistical data chart and prior Datatype charts of training and test datasets, found that column <b><u>Co-Applicant</u></b> is of type integr in training dataset and of string type in test set. Apart from this, There are some extereme values found for that column i.e. <b>-999 as minimum in training set</b> which is not something which is expected out of it as it is in contrary to what is being observed from <b>test set which only have 3 different values viz., 0. 1 and 2</b> in it.   "
   ]
  },
  {
   "cell_type": "code",
   "execution_count": 16,
   "metadata": {},
   "outputs": [],
   "source": [
    "def plot(dataset,mode=0,name='Visualisation',val_range=(0,100),area=5,color='green',alpha=0.8):\n",
    "    # Function to produce bulk plots of entire dataframe.\n",
    "    # This is helpful in ditermining correlation between various columns of the dataset and helpful in\n",
    "    # ditermination of plausible features that can be used as predictor set for the ML model.\n",
    "    # Returns the list of filenames which are stored in plots directory.\n",
    "    assert mode==0 or mode==1, \"Only acceoptable values of mode are 0 and 1!\"\n",
    "    fnames=[]\n",
    "    for col1 in dataset.columns:\n",
    "        col2='Loan Sanction Amount (USD)'\n",
    "        if(col1!=col2 and (type(dataset[str(col1)][0]) != type(\"\")) and (type(dataset[str(col2)][0]) != type(\"\")) ):\n",
    "            if mode==0:\n",
    "                # scatter plot\n",
    "                plt.clf()\n",
    "                plt.xlabel(f\"{col1}\")\n",
    "                plt.ylabel(f\"{col2}\")\n",
    "                plt.title(f\"{col1} versus {col2} Scatter Plot\")\n",
    "                plt.scatter(dataset[str(col1)].values[val_range[0]:val_range[1]],dataset[str(col2)].values[val_range[0]:val_range[1]],s=area,c=color,alpha=alpha)\n",
    "                plt.savefig(f\"plots/{name}_{col1}_{col2}.png\")\n",
    "                plt.clf()\n",
    "                fnames.append(f\"plots/{name}_{col1}_{col2}.png\")\n",
    "            else:\n",
    "                # line plot\n",
    "                plt.clf()\n",
    "                plt.xlabel(f\"{col1}\")\n",
    "                plt.ylabel(f\"{col2}\")\n",
    "                plt.title(f\"{col1} versus {col2} Line Plot\")\n",
    "                plt.plot(dataset[str(col1)].values[val_range[0]:val_range[1]],dataset[str(col2)].values[val_range[0]:val_range[1]],s=area,c=color,alpha=alpha)\n",
    "                plt.savefig(f\"plots/{name}_{col1}_{col2}.png\")\n",
    "                plt.clf()\n",
    "                fnames.append(f\"plots/{name}_{col1}_{col2}.png\")\n",
    "    return fnames                        "
   ]
  },
  {
   "cell_type": "code",
   "execution_count": 17,
   "metadata": {},
   "outputs": [
    {
     "name": "stdout",
     "output_type": "stream",
     "text": [
      "21 training set plots generated and stored in ./plots\n"
     ]
    },
    {
     "data": {
      "text/plain": [
       "<Figure size 432x288 with 0 Axes>"
      ]
     },
     "metadata": {},
     "output_type": "display_data"
    }
   ],
   "source": [
    "fnames=plot(train_dataset_denoised,name=\"Train_Dataset\")\n",
    "print(f\"{len(fnames)} training set plots generated and stored in ./plots\")"
   ]
  },
  {
   "cell_type": "markdown",
   "metadata": {},
   "source": [
    "<b>Scatter plots</b> are very good indicators of <b><u>correlation</u></b> and hence above plots can be prime mover for me in feature engineering."
   ]
  },
  {
   "cell_type": "markdown",
   "metadata": {},
   "source": [
    "Following are columns which I am considering as predictor features of our predictive model:\n",
    "1. Gender\n",
    "2. Age   \n",
    "3. Income (USD)\n",
    "4. Income Stability\n",
    "5. Profession      \n",
    "6. Type of Employment  \n",
    "7. Location            \n",
    "8. Loan Amount Request (USD)\n",
    "9. Current Loan Expenses (USD)   \n",
    "10. Expense Type 1                \n",
    "11. Expense Type 2                \n",
    "12. Dependents                    \n",
    "13. Credit Score                  \n",
    "14. No. of Defaults               \n",
    "15. Has Active Credit Card                           \n",
    "16. Property Age                  \n",
    "17. Property Type                 \n",
    "18. Property Location                               \n",
    "19. Property Price\n",
    "\n",
    "<b><u>Note </u>:</b> The decision of choice is based on the visual inspection of plots present in <b><i>./plots</i></b>. "
   ]
  },
  {
   "cell_type": "code",
   "execution_count": 18,
   "metadata": {},
   "outputs": [],
   "source": [
    "def vectorize(dataset,mode=0):\n",
    "    # helper function to return the slice of dataset containing only selected features for predictor set in mode=0\n",
    "    # and that of target when mode=1\n",
    "    assert mode==0 or mode==1, \"Only acceoptable values of mode are 0 and 1!\"\n",
    "    if mode==0:\n",
    "        features=['Gender',\n",
    "        'Age',\n",
    "        'Income (USD)',\n",
    "        'Income Stability',\n",
    "        'Profession',\n",
    "        'Type of Employment',\n",
    "        'Location',\n",
    "        'Loan Amount Request (USD)',\n",
    "        'Current Loan Expenses (USD)',\n",
    "        'Expense Type 1',\n",
    "        'Expense Type 2',\n",
    "        'Dependents',\n",
    "        'Credit Score',\n",
    "        'No. of Defaults',\n",
    "        'Has Active Credit Card',\n",
    "        'Property Age',\n",
    "        'Property Type',\n",
    "        'Property Location',\n",
    "        'Property Price']\n",
    "        return dataset[features]\n",
    "    else:\n",
    "        return dataset['Loan Sanction Amount (USD)']"
   ]
  },
  {
   "cell_type": "code",
   "execution_count": 19,
   "metadata": {},
   "outputs": [],
   "source": [
    "# Feature generation for our ML models.\n",
    "X=array(vectorize(train_dataset_denoised).values)\n",
    "Y=array(vectorize(train_dataset_denoised,mode=1).values)"
   ]
  },
  {
   "cell_type": "code",
   "execution_count": 20,
   "metadata": {},
   "outputs": [],
   "source": [
    "X_test=array(vectorize(test_dataset_denoised).values)    "
   ]
  },
  {
   "cell_type": "code",
   "execution_count": 21,
   "metadata": {},
   "outputs": [],
   "source": [
    "# Normalization\n",
    "#normalizer=MinMaxScaler()\n",
    "normalizer=StandardScaler()\n",
    "normalizer.fit(X)\n",
    "X_normalized=normalizer.transform(X)\n",
    "X_test_normalized=normalizer.transform(X_test)"
   ]
  },
  {
   "cell_type": "code",
   "execution_count": 22,
   "metadata": {},
   "outputs": [],
   "source": [
    "def criterion(prediction,actual):\n",
    "    # Evaluation criterion of ML models as suggested by Hackerearth challange portal.\n",
    "    return max(0,100 * r2_score(actual,prediction))"
   ]
  },
  {
   "cell_type": "code",
   "execution_count": 23,
   "metadata": {},
   "outputs": [],
   "source": [
    "def AI_enabler(model,model_alg,X,Y=[],split_ratio=0.1,shuffle=True,random_state=42,mode=0):\n",
    "    # mode=1 for making predictions.\n",
    "    # mode=0 for trainibng the model.\n",
    "    # model_alg is string representing the name of the predictive model's algorithm. \n",
    "    # split_ratio is used to segment the input into training and validation set. Applicable only for mode=0. \n",
    "    assert mode==0 or mode==1, \"Only two mnodes are allowed i.e. 0 and 1.\"\n",
    "    if mode==0:\n",
    "        X_train, X_val, Y_train, Y_val=train_test_split(X,Y,test_size=split_ratio,shuffle=shuffle,random_state=random_state)\n",
    "        model.fit(X_train,Y_train)\n",
    "        val_prediction=model.predict(X_val)\n",
    "        metric=criterion(val_prediction,Y_val)\n",
    "        print(f\"After training {model_alg}, conceived metric = {metric}\")\n",
    "        return model\n",
    "    else:\n",
    "        prediction=model.predict(X)\n",
    "        return prediction"
   ]
  },
  {
   "cell_type": "code",
   "execution_count": 24,
   "metadata": {},
   "outputs": [],
   "source": [
    "def create_prediction_file(fname,test_df,prediction):\n",
    "    # translates the dataframe into prediction file adhering to the submission format. \n",
    "    new_df=DataFrame({\"Customer ID\" : test_df[\"Customer ID\"].values,\"Loan Sanction Amount (USD)\" : prediction})\n",
    "    new_df.to_csv(f\"predictions/{fname}.csv\",index=False,header=True)"
   ]
  },
  {
   "cell_type": "code",
   "execution_count": 25,
   "metadata": {},
   "outputs": [
    {
     "name": "stdout",
     "output_type": "stream",
     "text": [
      "After training Linear Regression, conceived metric = 58.35833717664922\n"
     ]
    }
   ],
   "source": [
    "# Linear regression\n",
    "model=LinearRegression(n_jobs=-1)\n",
    "model_alg=\"Linear Regression\"\n",
    "model=AI_enabler(model,model_alg,X,Y)\n",
    "prediction=AI_enabler(model,model_alg,X_test,mode=1)\n",
    "create_prediction_file(model_alg,test_dataset_denoised,prediction)"
   ]
  },
  {
   "cell_type": "code",
   "execution_count": 26,
   "metadata": {},
   "outputs": [
    {
     "name": "stdout",
     "output_type": "stream",
     "text": [
      "After training Ridge Regression, conceived metric = 58.358379660661285\n"
     ]
    }
   ],
   "source": [
    "# Ridge regression\n",
    "model=Ridge(solver='auto',tol=1e-20)\n",
    "model_alg=\"Ridge Regression\"\n",
    "model=AI_enabler(model,model_alg,X,Y)\n",
    "prediction=AI_enabler(model,model_alg,X_test,mode=1)\n",
    "create_prediction_file(model_alg,test_dataset_denoised,prediction)"
   ]
  },
  {
   "cell_type": "code",
   "execution_count": 27,
   "metadata": {},
   "outputs": [
    {
     "name": "stdout",
     "output_type": "stream",
     "text": [
      "After training ElasticNet Regression, conceived metric = 58.41851486250425\n"
     ]
    }
   ],
   "source": [
    "# ElasticNet regression\n",
    "model=ElasticNet(tol=1e-10,max_iter=300000)\n",
    "model_alg=\"ElasticNet Regression\"\n",
    "model=AI_enabler(model,model_alg,X,Y)\n",
    "prediction=AI_enabler(model,model_alg,X_test,mode=1)\n",
    "create_prediction_file(model_alg,test_dataset_denoised,prediction)"
   ]
  },
  {
   "cell_type": "code",
   "execution_count": 28,
   "metadata": {},
   "outputs": [
    {
     "name": "stdout",
     "output_type": "stream",
     "text": [
      "After training Gradient Boosting Regression, conceived metric = 3.7295731899146145\n"
     ]
    }
   ],
   "source": [
    "# Gradient Boosting regression\n",
    "model=GradientBoostingRegressor(tol=1e-10,max_depth=5,learning_rate=1e-4,n_estimators=300)\n",
    "model_alg=\"Gradient Boosting Regression\"\n",
    "model=AI_enabler(model,model_alg,X,Y)\n",
    "prediction=AI_enabler(model,model_alg,X_test,mode=1)\n",
    "create_prediction_file(model_alg,test_dataset_denoised,prediction)"
   ]
  },
  {
   "cell_type": "code",
   "execution_count": 29,
   "metadata": {},
   "outputs": [
    {
     "name": "stdout",
     "output_type": "stream",
     "text": [
      "After training Polynomial Regression, conceived metric = 61.531419665616696\n"
     ]
    }
   ],
   "source": [
    "# Polynomial regression\n",
    "model=LinearRegression(n_jobs=-1)\n",
    "model_alg=\"Polynomial Regression\"\n",
    "polynomial_transform=PolynomialFeatures(degree=2)\n",
    "X_poly=polynomial_transform.fit_transform(X,Y)\n",
    "model=AI_enabler(model,model_alg,X_poly,Y)\n",
    "X_test_poly=polynomial_transform.transform(X_test)\n",
    "prediction=AI_enabler(model,model_alg,X_test_poly,mode=1)\n",
    "create_prediction_file(model_alg,test_dataset_denoised,prediction)"
   ]
  },
  {
   "cell_type": "code",
   "execution_count": 30,
   "metadata": {},
   "outputs": [
    {
     "name": "stdout",
     "output_type": "stream",
     "text": [
      "After training Multi Layered Perceptron Regression, conceived metric = 53.14102705161001\n"
     ]
    }
   ],
   "source": [
    "# Multi Layered Perceptron Regressor\n",
    "model=MLPRegressor(hidden_layer_sizes=[8],learning_rate_init=1e-4,shuffle=False,max_iter=1000)\n",
    "model_alg=\"Multi Layered Perceptron Regression\"\n",
    "model=AI_enabler(model,model_alg,X,Y)\n",
    "prediction=AI_enabler(model,model_alg,X_test,mode=1)\n",
    "create_prediction_file(model_alg,test_dataset_denoised,prediction)"
   ]
  },
  {
   "cell_type": "code",
   "execution_count": 31,
   "metadata": {},
   "outputs": [
    {
     "name": "stdout",
     "output_type": "stream",
     "text": [
      "Model: \"sequential\"\n",
      "_________________________________________________________________\n",
      "Layer (type)                 Output Shape              Param #   \n",
      "=================================================================\n",
      "conv1d (Conv1D)              (None, 1, 16)             928       \n",
      "_________________________________________________________________\n",
      "max_pooling1d (MaxPooling1D) (None, 1, 16)             0         \n",
      "_________________________________________________________________\n",
      "conv1d_1 (Conv1D)            (None, 1, 32)             1568      \n",
      "_________________________________________________________________\n",
      "max_pooling1d_1 (MaxPooling1 (None, 1, 32)             0         \n",
      "_________________________________________________________________\n",
      "flatten (Flatten)            (None, 32)                0         \n",
      "_________________________________________________________________\n",
      "dense (Dense)                (None, 32)                1056      \n",
      "_________________________________________________________________\n",
      "dropout (Dropout)            (None, 32)                0         \n",
      "_________________________________________________________________\n",
      "dense_1 (Dense)              (None, 16)                528       \n",
      "_________________________________________________________________\n",
      "dropout_1 (Dropout)          (None, 16)                0         \n",
      "_________________________________________________________________\n",
      "dense_2 (Dense)              (None, 4)                 68        \n",
      "_________________________________________________________________\n",
      "dropout_2 (Dropout)          (None, 4)                 0         \n",
      "_________________________________________________________________\n",
      "dense_3 (Dense)              (None, 1)                 5         \n",
      "=================================================================\n",
      "Total params: 4,153\n",
      "Trainable params: 4,153\n",
      "Non-trainable params: 0\n",
      "_________________________________________________________________\n",
      "Epoch 1/15\n",
      "6750/6750 [==============================] - 7s 964us/step - loss: 39932.5788\n",
      "Epoch 2/15\n",
      "6750/6750 [==============================] - 6s 950us/step - loss: 29589.7262\n",
      "Epoch 3/15\n",
      "6750/6750 [==============================] - 7s 981us/step - loss: 29176.9963\n",
      "Epoch 4/15\n",
      "6750/6750 [==============================] - 6s 951us/step - loss: 28906.6891\n",
      "Epoch 5/15\n",
      "6750/6750 [==============================] - 7s 978us/step - loss: 28333.0881\n",
      "Epoch 6/15\n",
      "6750/6750 [==============================] - 6s 948us/step - loss: 27956.0949\n",
      "Epoch 7/15\n",
      "6750/6750 [==============================] - 6s 963us/step - loss: 28160.2334\n",
      "Epoch 8/15\n",
      "6750/6750 [==============================] - 7s 965us/step - loss: 27810.9169\n",
      "Epoch 9/15\n",
      "6750/6750 [==============================] - 7s 975us/step - loss: 27454.8850\n",
      "Epoch 10/15\n",
      "6750/6750 [==============================] - 7s 992us/step - loss: 28139.2342\n",
      "Epoch 11/15\n",
      "6750/6750 [==============================] - 6s 959us/step - loss: 27107.4453\n",
      "Epoch 12/15\n",
      "6750/6750 [==============================] - 7s 983us/step - loss: 26927.8300\n",
      "Epoch 13/15\n",
      "6750/6750 [==============================] - 7s 968us/step - loss: 26525.8443\n",
      "Epoch 14/15\n",
      "6750/6750 [==============================] - 6s 963us/step - loss: 26664.0459\n",
      "Epoch 15/15\n",
      "6750/6750 [==============================] - 7s 992us/step - loss: 26409.9335\n",
      "After training CNN Regressor, conceived metric = 40.63711586233579\n"
     ]
    },
    {
     "data": {
      "image/png": "[encoded data removed]",
      "text/plain": [
       "<Figure size 432x288 with 1 Axes>"
      ]
     },
     "metadata": {
      "needs_background": "light"
     },
     "output_type": "display_data"
    },
    {
     "data": {
      "text/plain": [
       "<Figure size 432x288 with 0 Axes>"
      ]
     },
     "metadata": {},
     "output_type": "display_data"
    }
   ],
   "source": [
    "# Tensorflow Model\n",
    "epochs=15\n",
    "model_alg=\"CNN Regressor\"\n",
    "X_morphed=X.reshape(-1,1,19)\n",
    "Y_morphed=Y.reshape(-1,1)\n",
    "model=Sequential()\n",
    "model.add(Conv1D(16,3,input_shape=(1,19),activation='relu',padding='same'))\n",
    "model.add(MaxPool1D(padding='same'))\n",
    "model.add(Conv1D(32,3,activation='relu',padding='same'))\n",
    "model.add(MaxPool1D(padding='same'))\n",
    "model.add(Flatten())\n",
    "model.add(Dense(32,activation='relu'))\n",
    "model.add(Dropout(0.2))\n",
    "model.add(Dense(16,activation='relu'))\n",
    "model.add(Dropout(0.2))\n",
    "model.add(Dense(4,activation='relu'))\n",
    "model.add(Dropout(0.2))\n",
    "model.add(Dense(1))\n",
    "model.compile(optimizer=Adam(learning_rate=1e-4),loss='huber')\n",
    "model.summary()\n",
    "X_train, X_val, Y_train, Y_val=train_test_split(X_morphed,Y_morphed,test_size=0.1,shuffle=True,random_state=42)\n",
    "history=model.fit(X_train,Y_train,batch_size=4,epochs=epochs,shuffle=True)\n",
    "val_prediction=model.predict(X_val).reshape(-1)\n",
    "metric=criterion(val_prediction,Y_val)\n",
    "print(f\"After training {model_alg}, conceived metric = {metric}\")\n",
    "X_test_morphed=X_test.reshape(-1,1,19)\n",
    "prediction=model.predict(X_test_morphed).reshape(-1)\n",
    "create_prediction_file(model_alg,test_dataset_denoised,prediction)\n",
    "plt.xlabel('Epoch')\n",
    "plt.ylabel('Loss')\n",
    "plt.title('Loss Distribution over training epochs')\n",
    "dummy=[i for i in range(epochs)]\n",
    "plt.plot(dummy,history.history['loss'])\n",
    "plt.show()\n",
    "plt.savefig(f\"plots/{model_alg}.png\")\n",
    "plt.clf()"
   ]
  },
  {
   "cell_type": "markdown",
   "metadata": {},
   "source": [
    "<b><u>Note</u> :</b>The maximum R^2 score acheived so far is <i>60.90680</i> (within the hackerearth evaluation system), I want to move ahead with <b>hyperparameter tuning</b> to search for optimal parameters in the parameter space. <br>\n",
    "In the subsequent part of the code, I will use method of GridSearchCV of sklearn library to look for best set of parameters of the models which seems plausible in my preliminary analysis. For doing so, I have coded a custom hyperparameter tuning script which I am going to use.  "
   ]
  },
  {
   "cell_type": "code",
   "execution_count": 32,
   "metadata": {},
   "outputs": [
    {
     "name": "stdout",
     "output_type": "stream",
     "text": [
      "         model  Best Score                                        Best Params\n",
      "0          svm    0.311934  {'degree': 2, 'gamma': 'scale', 'kernel': 'pol...\n",
      "1        ridge    0.574726   {'alpha': 0, 'max_iter': 1000, 'solver': 'auto'}\n",
      "2  elastic_net    0.574726  {'alpha': 0, 'max_iter': 100000, 'selection': ...\n"
     ]
    }
   ],
   "source": [
    "if not os.path.exists('HPT_performance.csv'):\n",
    "    HPT=DataFrame(Hyperparameter_Tuning.hyperParameterOptimizer(X,Y))\n",
    "    HPT.to_csv('HPT_performance.csv',header=True,index=False)\n",
    "hyperparameters=read_csv('HPT_performance.csv')\n",
    "print(hyperparameters)"
   ]
  },
  {
   "cell_type": "code",
   "execution_count": 33,
   "metadata": {},
   "outputs": [
    {
     "name": "stdout",
     "output_type": "stream",
     "text": [
      "After training Support Vector Machine Regression(HPT), conceived metric = 40.010582829363216\n"
     ]
    }
   ],
   "source": [
    "# Support Vector Machine regression (HPT)\n",
    "model=SVR(tol=1e-4,kernel='poly',degree=2,gamma='scale',max_iter=100000)\n",
    "model_alg=\"Support Vector Machine Regression(HPT)\"\n",
    "model=AI_enabler(model,model_alg,X,Y)\n",
    "prediction=AI_enabler(model,model_alg,X_test,mode=1)\n",
    "create_prediction_file(model_alg,test_dataset_denoised,prediction)"
   ]
  },
  {
   "cell_type": "code",
   "execution_count": 34,
   "metadata": {},
   "outputs": [
    {
     "name": "stdout",
     "output_type": "stream",
     "text": [
      "After training Ridge Regression(HPT), conceived metric = 58.35833717664944\n"
     ]
    }
   ],
   "source": [
    "# Ridge regression (HPT)\n",
    "model=Ridge(tol=1e-4,normalize=True,alpha=0,solver='auto',max_iter=1000)\n",
    "model_alg=\"Ridge Regression(HPT)\"\n",
    "model=AI_enabler(model,model_alg,X,Y)\n",
    "prediction=AI_enabler(model,model_alg,X_test,mode=1)\n",
    "create_prediction_file(model_alg,test_dataset_denoised,prediction)"
   ]
  },
  {
   "cell_type": "code",
   "execution_count": 35,
   "metadata": {},
   "outputs": [
    {
     "name": "stdout",
     "output_type": "stream",
     "text": [
      "After training ElasticNet Regression(HPT), conceived metric = 58.35833717664942\n"
     ]
    }
   ],
   "source": [
    "# ElasticNet regression (HPT)\n",
    "model=ElasticNet(tol=1e-4,normalize=True,alpha=0,max_iter=200000,selection='cyclic')\n",
    "model_alg=\"ElasticNet Regression(HPT)\"\n",
    "model=AI_enabler(model,model_alg,X,Y)\n",
    "prediction=AI_enabler(model,model_alg,X_test,mode=1)\n",
    "create_prediction_file(model_alg,test_dataset_denoised,prediction)"
   ]
  },
  {
   "cell_type": "markdown",
   "metadata": {},
   "source": [
    "Tryout the models with normalized features."
   ]
  },
  {
   "cell_type": "code",
   "execution_count": 36,
   "metadata": {},
   "outputs": [
    {
     "name": "stdout",
     "output_type": "stream",
     "text": [
      "After training Linear Regression Normalized, conceived metric = 58.3583371766495\n"
     ]
    }
   ],
   "source": [
    "# Linear regression (Normalized Features)\n",
    "model=LinearRegression(n_jobs=-1)\n",
    "model_alg=\"Linear Regression Normalized\"\n",
    "model=AI_enabler(model,model_alg,X_normalized,Y)\n",
    "prediction=AI_enabler(model,model_alg,X_test_normalized,mode=1)\n",
    "create_prediction_file(model_alg,test_dataset_denoised,prediction)"
   ]
  },
  {
   "cell_type": "code",
   "execution_count": 37,
   "metadata": {},
   "outputs": [
    {
     "name": "stdout",
     "output_type": "stream",
     "text": [
      "After training Support Vector Machine Regression Normalized, conceived metric = 0\n"
     ]
    }
   ],
   "source": [
    "# Support Vector Machine regression (Normalized Features)\n",
    "model=SVR(tol=1e-4,kernel='poly',degree=2,gamma='scale',max_iter=100000)\n",
    "model_alg=\"Support Vector Machine Regression Normalized\"\n",
    "model=AI_enabler(model,model_alg,X_normalized,Y)\n",
    "prediction=AI_enabler(model,model_alg,X_test_normalized,mode=1)\n",
    "create_prediction_file(model_alg,test_dataset_denoised,prediction)"
   ]
  },
  {
   "cell_type": "code",
   "execution_count": 38,
   "metadata": {},
   "outputs": [
    {
     "name": "stdout",
     "output_type": "stream",
     "text": [
      "After training Ridge Regression Normalized, conceived metric = 58.358337176649464\n"
     ]
    }
   ],
   "source": [
    "# Ridge regression (Normalized Features)\n",
    "model=Ridge(tol=1e-4,normalize=True,alpha=0,solver='auto',max_iter=1000)\n",
    "model_alg=\"Ridge Regression Normalized\"\n",
    "model=AI_enabler(model,model_alg,X_normalized,Y)\n",
    "prediction=AI_enabler(model,model_alg,X_test_normalized,mode=1)\n",
    "create_prediction_file(model_alg,test_dataset_denoised,prediction)"
   ]
  },
  {
   "cell_type": "code",
   "execution_count": 39,
   "metadata": {},
   "outputs": [
    {
     "name": "stdout",
     "output_type": "stream",
     "text": [
      "After training ElasticNet Regression Normalized, conceived metric = 58.358337176649385\n"
     ]
    }
   ],
   "source": [
    "# ElasticNet regression (Normalized Features)\n",
    "model=ElasticNet(tol=1e-4,normalize=True,alpha=0,max_iter=200000,selection='cyclic')\n",
    "model_alg=\"ElasticNet Regression Normalized\"\n",
    "model=AI_enabler(model,model_alg,X_normalized,Y)\n",
    "prediction=AI_enabler(model,model_alg,X_test_normalized,mode=1)\n",
    "create_prediction_file(model_alg,test_dataset_denoised,prediction)"
   ]
  },
  {
   "cell_type": "code",
   "execution_count": 40,
   "metadata": {},
   "outputs": [
    {
     "name": "stdout",
     "output_type": "stream",
     "text": [
      "Model: \"sequential_1\"\n",
      "_________________________________________________________________\n",
      "Layer (type)                 Output Shape              Param #   \n",
      "=================================================================\n",
      "conv1d_2 (Conv1D)            (None, 1, 16)             928       \n",
      "_________________________________________________________________\n",
      "max_pooling1d_2 (MaxPooling1 (None, 1, 16)             0         \n",
      "_________________________________________________________________\n",
      "conv1d_3 (Conv1D)            (None, 1, 32)             1568      \n",
      "_________________________________________________________________\n",
      "max_pooling1d_3 (MaxPooling1 (None, 1, 32)             0         \n",
      "_________________________________________________________________\n",
      "flatten_1 (Flatten)          (None, 32)                0         \n",
      "_________________________________________________________________\n",
      "dense_4 (Dense)              (None, 32)                1056      \n",
      "_________________________________________________________________\n",
      "dropout_3 (Dropout)          (None, 32)                0         \n",
      "_________________________________________________________________\n",
      "dense_5 (Dense)              (None, 16)                528       \n",
      "_________________________________________________________________\n",
      "dropout_4 (Dropout)          (None, 16)                0         \n",
      "_________________________________________________________________\n",
      "dense_6 (Dense)              (None, 4)                 68        \n",
      "_________________________________________________________________\n",
      "dropout_5 (Dropout)          (None, 4)                 0         \n",
      "_________________________________________________________________\n",
      "dense_7 (Dense)              (None, 1)                 5         \n",
      "=================================================================\n",
      "Total params: 4,153\n",
      "Trainable params: 4,153\n",
      "Non-trainable params: 0\n",
      "_________________________________________________________________\n",
      "Epoch 1/15\n",
      "6750/6750 [==============================] - 5s 708us/step - loss: 46068.1038\n",
      "Epoch 2/15\n",
      "6750/6750 [==============================] - 5s 689us/step - loss: 29276.5228\n",
      "Epoch 3/15\n",
      "6750/6750 [==============================] - 5s 700us/step - loss: 27845.3432\n",
      "Epoch 4/15\n",
      "6750/6750 [==============================] - 5s 691us/step - loss: 27613.1336\n",
      "Epoch 5/15\n",
      "6750/6750 [==============================] - 5s 693us/step - loss: 27470.8233\n",
      "Epoch 6/15\n",
      "6750/6750 [==============================] - 5s 697us/step - loss: 27132.7758\n",
      "Epoch 7/15\n",
      "6750/6750 [==============================] - 5s 717us/step - loss: 26977.4084\n",
      "Epoch 8/15\n",
      "6750/6750 [==============================] - 5s 711us/step - loss: 26701.3434\n",
      "Epoch 9/15\n",
      "6750/6750 [==============================] - 5s 718us/step - loss: 27103.4800\n",
      "Epoch 10/15\n",
      "6750/6750 [==============================] - 5s 701us/step - loss: 26417.6847\n",
      "Epoch 11/15\n",
      "6750/6750 [==============================] - 5s 696us/step - loss: 26287.7812\n",
      "Epoch 12/15\n",
      "6750/6750 [==============================] - 5s 721us/step - loss: 26399.4298\n",
      "Epoch 13/15\n",
      "6750/6750 [==============================] - 5s 733us/step - loss: 26565.8332\n",
      "Epoch 14/15\n",
      "6750/6750 [==============================] - 5s 730us/step - loss: 26229.0061\n",
      "Epoch 15/15\n",
      "6750/6750 [==============================] - 5s 713us/step - loss: 26346.2493\n",
      "After training CNN Regressor Normalized, conceived metric = 58.01406483814313\n"
     ]
    },
    {
     "data": {
      "image/png": "[encoded data removed]",
      "text/plain": [
       "<Figure size 432x288 with 1 Axes>"
      ]
     },
     "metadata": {
      "needs_background": "light"
     },
     "output_type": "display_data"
    },
    {
     "data": {
      "text/plain": [
       "<Figure size 432x288 with 0 Axes>"
      ]
     },
     "metadata": {},
     "output_type": "display_data"
    }
   ],
   "source": [
    "# Tensorflow Model (Normalized Features)\n",
    "epochs=15\n",
    "model_alg=\"CNN Regressor Normalized\"\n",
    "X_morphed=X_normalized.reshape(-1,1,19)\n",
    "Y_morphed=Y.reshape(-1,1)\n",
    "model=Sequential()\n",
    "model.add(Conv1D(16,3,input_shape=(1,19),activation='relu',padding='same'))\n",
    "model.add(MaxPool1D(padding='same'))\n",
    "model.add(Conv1D(32,3,activation='relu',padding='same'))\n",
    "model.add(MaxPool1D(padding='same'))\n",
    "model.add(Flatten())\n",
    "model.add(Dense(32,activation='relu'))\n",
    "model.add(Dropout(0.2))\n",
    "model.add(Dense(16,activation='relu'))\n",
    "model.add(Dropout(0.2))\n",
    "model.add(Dense(4,activation='relu'))\n",
    "model.add(Dropout(0.2))\n",
    "model.add(Dense(1))\n",
    "model.compile(optimizer=Adam(learning_rate=1e-4),loss='huber')\n",
    "model.summary()\n",
    "X_train, X_val, Y_train, Y_val=train_test_split(X_morphed,Y_morphed,test_size=0.1,shuffle=True,random_state=42)\n",
    "history=model.fit(X_train,Y_train,batch_size=4,epochs=epochs,shuffle=True)\n",
    "val_prediction=model.predict(X_val).reshape(-1)\n",
    "metric=criterion(val_prediction,Y_val)\n",
    "print(f\"After training {model_alg}, conceived metric = {metric}\")\n",
    "X_test_morphed=X_test_normalized.reshape(-1,1,19)\n",
    "prediction=model.predict(X_test_morphed).reshape(-1)\n",
    "create_prediction_file(model_alg,test_dataset_denoised,prediction)\n",
    "plt.xlabel('Epoch')\n",
    "plt.ylabel('Loss')\n",
    "plt.title('Loss Distribution over training epochs')\n",
    "dummy=[i for i in range(epochs)]\n",
    "plt.plot(dummy,history.history['loss'])\n",
    "plt.show()\n",
    "plt.savefig(f\"plots/{model_alg}.png\")\n",
    "plt.clf()"
   ]
  },
  {
   "cell_type": "code",
   "execution_count": 41,
   "metadata": {},
   "outputs": [
    {
     "name": "stdout",
     "output_type": "stream",
     "text": [
      "After training Gradient Boosting Regression Normalized, conceived metric = 3.729573141947229\n"
     ]
    }
   ],
   "source": [
    "# Gradient Boosting regression (Normalized Features)\n",
    "model=GradientBoostingRegressor(tol=1e-10,max_depth=5,learning_rate=1e-4,n_estimators=300)\n",
    "model_alg=\"Gradient Boosting Regression Normalized\"\n",
    "model=AI_enabler(model,model_alg,X_normalized,Y)\n",
    "prediction=AI_enabler(model,model_alg,X_test_normalized,mode=1)\n",
    "create_prediction_file(model_alg,test_dataset_denoised,prediction)"
   ]
  }
 ],
 "metadata": {
  "kernelspec": {
   "display_name": "Python 3",
   "language": "python",
   "name": "python3"
  },
  "language_info": {
   "codemirror_mode": {
    "name": "ipython",
    "version": 3
   },
   "file_extension": ".py",
   "mimetype": "text/x-python",
   "name": "python",
   "nbconvert_exporter": "python",
   "pygments_lexer": "ipython3",
   "version": "3.8.5"
  }
 },
 "nbformat": 4,
 "nbformat_minor": 4
}
